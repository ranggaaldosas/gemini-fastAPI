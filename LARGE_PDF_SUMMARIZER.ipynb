{
  "nbformat": 4,
  "nbformat_minor": 0,
  "metadata": {
    "colab": {
      "provenance": []
    },
    "kernelspec": {
      "name": "python3",
      "display_name": "Python 3"
    },
    "language_info": {
      "name": "python"
    }
  },
  "cells": [
    {
      "cell_type": "code",
      "source": [
        "!pip install google-generativeai"
      ],
      "metadata": {
        "colab": {
          "base_uri": "https://localhost:8080/"
        },
        "id": "TsLRUBwS82cM",
        "outputId": "ad7cfaa0-5c88-441f-8f55-2f65526b0346"
      },
      "execution_count": 1,
      "outputs": [
        {
          "output_type": "stream",
          "name": "stdout",
          "text": [
            "Requirement already satisfied: google-generativeai in /usr/local/lib/python3.10/dist-packages (0.5.4)\n",
            "Requirement already satisfied: google-ai-generativelanguage==0.6.4 in /usr/local/lib/python3.10/dist-packages (from google-generativeai) (0.6.4)\n",
            "Requirement already satisfied: google-api-core in /usr/local/lib/python3.10/dist-packages (from google-generativeai) (2.11.1)\n",
            "Requirement already satisfied: google-api-python-client in /usr/local/lib/python3.10/dist-packages (from google-generativeai) (2.84.0)\n",
            "Requirement already satisfied: google-auth>=2.15.0 in /usr/local/lib/python3.10/dist-packages (from google-generativeai) (2.27.0)\n",
            "Requirement already satisfied: protobuf in /usr/local/lib/python3.10/dist-packages (from google-generativeai) (3.20.3)\n",
            "Requirement already satisfied: pydantic in /usr/local/lib/python3.10/dist-packages (from google-generativeai) (2.7.1)\n",
            "Requirement already satisfied: tqdm in /usr/local/lib/python3.10/dist-packages (from google-generativeai) (4.66.4)\n",
            "Requirement already satisfied: typing-extensions in /usr/local/lib/python3.10/dist-packages (from google-generativeai) (4.11.0)\n",
            "Requirement already satisfied: proto-plus<2.0.0dev,>=1.22.3 in /usr/local/lib/python3.10/dist-packages (from google-ai-generativelanguage==0.6.4->google-generativeai) (1.23.0)\n",
            "Requirement already satisfied: cachetools<6.0,>=2.0.0 in /usr/local/lib/python3.10/dist-packages (from google-auth>=2.15.0->google-generativeai) (5.3.3)\n",
            "Requirement already satisfied: pyasn1-modules>=0.2.1 in /usr/local/lib/python3.10/dist-packages (from google-auth>=2.15.0->google-generativeai) (0.4.0)\n",
            "Requirement already satisfied: rsa<5,>=3.1.4 in /usr/local/lib/python3.10/dist-packages (from google-auth>=2.15.0->google-generativeai) (4.9)\n",
            "Requirement already satisfied: googleapis-common-protos<2.0.dev0,>=1.56.2 in /usr/local/lib/python3.10/dist-packages (from google-api-core->google-generativeai) (1.63.0)\n",
            "Requirement already satisfied: requests<3.0.0.dev0,>=2.18.0 in /usr/local/lib/python3.10/dist-packages (from google-api-core->google-generativeai) (2.31.0)\n",
            "Requirement already satisfied: httplib2<1dev,>=0.15.0 in /usr/local/lib/python3.10/dist-packages (from google-api-python-client->google-generativeai) (0.22.0)\n",
            "Requirement already satisfied: google-auth-httplib2>=0.1.0 in /usr/local/lib/python3.10/dist-packages (from google-api-python-client->google-generativeai) (0.1.1)\n",
            "Requirement already satisfied: uritemplate<5,>=3.0.1 in /usr/local/lib/python3.10/dist-packages (from google-api-python-client->google-generativeai) (4.1.1)\n",
            "Requirement already satisfied: annotated-types>=0.4.0 in /usr/local/lib/python3.10/dist-packages (from pydantic->google-generativeai) (0.7.0)\n",
            "Requirement already satisfied: pydantic-core==2.18.2 in /usr/local/lib/python3.10/dist-packages (from pydantic->google-generativeai) (2.18.2)\n",
            "Requirement already satisfied: grpcio<2.0dev,>=1.33.2 in /usr/local/lib/python3.10/dist-packages (from google-api-core->google-generativeai) (1.64.0)\n",
            "Requirement already satisfied: grpcio-status<2.0.dev0,>=1.33.2 in /usr/local/lib/python3.10/dist-packages (from google-api-core->google-generativeai) (1.48.2)\n",
            "Requirement already satisfied: pyparsing!=3.0.0,!=3.0.1,!=3.0.2,!=3.0.3,<4,>=2.4.2 in /usr/local/lib/python3.10/dist-packages (from httplib2<1dev,>=0.15.0->google-api-python-client->google-generativeai) (3.1.2)\n",
            "Requirement already satisfied: pyasn1<0.7.0,>=0.4.6 in /usr/local/lib/python3.10/dist-packages (from pyasn1-modules>=0.2.1->google-auth>=2.15.0->google-generativeai) (0.6.0)\n",
            "Requirement already satisfied: charset-normalizer<4,>=2 in /usr/local/lib/python3.10/dist-packages (from requests<3.0.0.dev0,>=2.18.0->google-api-core->google-generativeai) (3.3.2)\n",
            "Requirement already satisfied: idna<4,>=2.5 in /usr/local/lib/python3.10/dist-packages (from requests<3.0.0.dev0,>=2.18.0->google-api-core->google-generativeai) (3.7)\n",
            "Requirement already satisfied: urllib3<3,>=1.21.1 in /usr/local/lib/python3.10/dist-packages (from requests<3.0.0.dev0,>=2.18.0->google-api-core->google-generativeai) (2.0.7)\n",
            "Requirement already satisfied: certifi>=2017.4.17 in /usr/local/lib/python3.10/dist-packages (from requests<3.0.0.dev0,>=2.18.0->google-api-core->google-generativeai) (2024.2.2)\n"
          ]
        }
      ]
    },
    {
      "cell_type": "code",
      "source": [
        "!pip install PyPDF2"
      ],
      "metadata": {
        "colab": {
          "base_uri": "https://localhost:8080/"
        },
        "id": "uWmY-Xy99gT_",
        "outputId": "76cbad4c-9c90-4311-8527-8235cbc1a518"
      },
      "execution_count": 2,
      "outputs": [
        {
          "output_type": "stream",
          "name": "stdout",
          "text": [
            "Collecting PyPDF2\n",
            "  Downloading pypdf2-3.0.1-py3-none-any.whl (232 kB)\n",
            "\u001b[2K     \u001b[90m━━━━━━━━━━━━━━━━━━━━━━━━━━━━━━━━━━━━━━━━\u001b[0m \u001b[32m232.6/232.6 kB\u001b[0m \u001b[31m5.2 MB/s\u001b[0m eta \u001b[36m0:00:00\u001b[0m\n",
            "\u001b[?25hInstalling collected packages: PyPDF2\n",
            "Successfully installed PyPDF2-3.0.1\n"
          ]
        }
      ]
    },
    {
      "cell_type": "code",
      "source": [
        "import PyPDF2"
      ],
      "metadata": {
        "id": "ojzCMnM2UiZd"
      },
      "execution_count": 12,
      "outputs": []
    },
    {
      "cell_type": "code",
      "source": [
        "def extract_text_from_pdf(pdf_path):\n",
        "    with open(pdf_path, 'rb') as file:\n",
        "        pdf_reader = PyPDF2.PdfReader(file)\n",
        "        text = \"\"\n",
        "        for page_num in range(len(pdf_reader.pages)):\n",
        "            page = pdf_reader.pages[page_num]\n",
        "            text += page.extract_text()\n",
        "    return text"
      ],
      "metadata": {
        "id": "RXCpiWt99du_"
      },
      "execution_count": 13,
      "outputs": []
    },
    {
      "cell_type": "code",
      "source": [
        "text = extract_text_from_pdf('/content/all-slide-jarkom.pdf')"
      ],
      "metadata": {
        "id": "iOV59xM99vxH"
      },
      "execution_count": 6,
      "outputs": []
    },
    {
      "cell_type": "code",
      "source": [
        "print(f\"panjang text: {len(text)}\")"
      ],
      "metadata": {
        "colab": {
          "base_uri": "https://localhost:8080/"
        },
        "id": "w9CcBnzVRHr3",
        "outputId": "b5b4160b-7049-4315-e0d5-220e64e4692a"
      },
      "execution_count": 9,
      "outputs": [
        {
          "output_type": "stream",
          "name": "stdout",
          "text": [
            "panjang text: 255670\n"
          ]
        }
      ]
    },
    {
      "cell_type": "code",
      "execution_count": 15,
      "metadata": {
        "colab": {
          "base_uri": "https://localhost:8080/",
          "height": 1000
        },
        "id": "-Hm7RQGf8fJ-",
        "outputId": "1cc8db18-ad3b-450c-a0e6-5020259d46b8"
      },
      "outputs": [
        {
          "output_type": "stream",
          "name": "stdout",
          "text": [
            "##  Network Security: Principles and Applications\n",
            "\n",
            "This abstract summarizes the key concepts and applications of network security as presented in the text \"Computer Networking: A Top-Down Approach.\" It covers the fundamental principles of cryptography, authentication, and message integrity, and examines how these principles are applied in practical scenarios like securing email and TCP connections, and protecting networks using firewalls.\n",
            "\n",
            "**1. Network Security Fundamentals**\n",
            "\n",
            "Network security addresses various threats to data and services transmitted over networks. The core objectives include:\n",
            "\n",
            "- **Confidentiality:** Ensuring that only authorized entities can access sensitive information. This is achieved through encryption, where data is transformed into an unreadable format, only decipherable with a specific key.\n",
            "\n",
            "- **Authentication:** Verifying the identity of the communicating parties.  Authentication protocols aim to prevent impersonation attacks, where an attacker pretends to be a legitimate user.\n",
            "\n",
            "- **Message Integrity:** Ensuring that messages are not tampered with during transmission or storage. This is achieved using cryptographic hash functions, which produce a unique fingerprint of the message, any alteration of which can be detected.\n",
            "\n",
            "- **Access Control:** Limiting access to network resources based on defined policies. This typically involves mechanisms like firewalls, which filter incoming and outgoing traffic according to specified rules.\n",
            "\n",
            "- **Availability:** Ensuring that network resources remain accessible to authorized users. This involves protecting against denial-of-service attacks, which aim to overload network resources, making them unavailable to legitimate users.\n",
            "\n",
            "**2. Cryptography:  Securing Data Transmission**\n",
            "\n",
            "Cryptography plays a central role in network security.  Two main approaches are used:\n",
            "\n",
            "- **Symmetric-key cryptography:**  Both the sender and receiver share the same secret key for both encryption and decryption. This approach is generally faster and more efficient than public-key cryptography, but requires a secure channel for key distribution. Examples include DES and AES.\n",
            "\n",
            "- **Public-key cryptography:**  Each user has a pair of keys: a public key known to everyone, and a private key known only to the user.  The public key can encrypt messages, while only the private key can decrypt them.  Public-key cryptography solves the key distribution problem, but is computationally more expensive than symmetric-key cryptography.  Examples include RSA and Diffie-Hellman.\n",
            "\n",
            "**3. Authentication: Proving Your Identity**\n",
            "\n",
            "Authentication protocols ensure that communicating entities are who they claim to be. This is crucial to prevent impersonation attacks.\n",
            "\n",
            "- **Simple authentication protocols:**  Often rely on shared secrets, such as passwords. However, these are vulnerable to replay attacks, where an attacker records the authentication message and replays it later.\n",
            "\n",
            "- **Nonce-based authentication:**  A nonce is a random value used only once. The sender generates a nonce and sends it to the receiver, who must return the nonce encrypted with the shared secret key. This proves that the sender is live and possesses the correct key.\n",
            "\n",
            "- **Public-key based authentication:**  Leverages public-key cryptography to authenticate users.  A Certification Authority (CA) digitally signs certificates binding users' identities to their public keys, allowing recipients to verify the authenticity of the sender's public key.\n",
            "\n",
            "**4. Message Integrity: Detecting Tampering**\n",
            "\n",
            "Message integrity ensures that messages remain unaltered during transmission or storage.  This is achieved using cryptographic hash functions:\n",
            "\n",
            "- **Hash functions:**  Produce a fixed-length message digest (fingerprint) of the message. It's computationally infeasible to find a different message with the same hash value, making hash functions suitable for detecting any tampering with the message. \n",
            "\n",
            "- **Digital signatures:**  A digital signature combines a hash function with public-key cryptography. The sender computes the hash of the message, encrypts it with their private key, and sends it along with the message. The recipient can verify the signature using the sender's public key, ensuring both the authenticity and integrity of the message.\n",
            "\n",
            "**5. Securing Email Communications**\n",
            "\n",
            "Email security involves protecting both the confidentiality and integrity of emails. This is achieved by combining encryption, digital signatures, and hash functions:\n",
            "\n",
            "- **Confidentiality:** The sender encrypts the email content using a symmetric key, then encrypts the symmetric key with the receiver's public key. The receiver uses their private key to recover the symmetric key and then decrypt the email content.\n",
            "\n",
            "- **Integrity and Authentication:** The sender computes the hash of the email content and encrypts it with their private key, creating a digital signature. This signature proves the sender's authenticity and ensures that the email content remains unchanged.\n",
            "\n",
            "**6. Securing TCP Connections: Transport Layer Security (TLS)**\n",
            "\n",
            "TLS is a widely deployed security protocol that operates at the transport layer, providing confidentiality, integrity, and authentication for TCP connections.\n",
            "\n",
            "- **TLS Handshake:**  The handshake phase involves the client and server authenticating each other using their certificates and private keys.  This phase also establishes a shared secret key for the session.\n",
            "\n",
            "- **Key Derivation:**  The shared secret key is used to derive a set of keys for encryption and message authentication.\n",
            "\n",
            "- **Data Transfer:**  Data is broken into records, each of which is encrypted with the symmetric encryption key and authenticated using a message authentication code (MAC).\n",
            "\n",
            "- **Connection Closure:**  Specific TLS messages are used to securely close the connection, protecting against truncation attacks.\n",
            "\n",
            "**7. Operational Security: Firewalls**\n",
            "\n",
            "Firewalls act as a barrier between an organization's internal network and the larger Internet, controlling traffic flow according to defined rules. \n",
            "\n",
            "- **Stateless Packet Filtering:** Firewalls examine incoming and outgoing packets individually and decide whether to allow or drop them based on simple criteria like IP addresses, port numbers, and protocol types.\n",
            "\n",
            "- **Stateful Packet Filtering:** Firewalls track the status of TCP connections, ensuring that incoming and outgoing packets are consistent with the established connection state. This provides more granular control over traffic flow.\n",
            "\n",
            "- **Application Gateways:** Firewalls can operate at the application layer, filtering traffic based on application data as well as IP, TCP, and UDP fields. This allows for more sophisticated access control, but requires specialized gateways for each application.\n",
            "\n",
            "**Conclusion**\n",
            "\n",
            "Network security is a critical aspect of modern computer networks.  Cryptography, authentication, and message integrity are fundamental techniques used to protect data and services from various attacks.  TLS is a widely deployed security protocol that secures TCP connections, while firewalls provide a vital line of defense by controlling traffic flow according to defined rules. As networks evolve, network security continues to be a complex and constantly evolving field, requiring ongoing research and development to address new threats and ensure the reliability and integrity of our digital world.\n",
            "\n"
          ]
        }
      ],
      "source": [
        "# NOTE: Your prompt contains media inputs that are not directly supported by the\n",
        "# Gemini Files API. Preprocessing will be required for these inputs. Specific\n",
        "# information is provided below.\n",
        "\n",
        "\"\"\"\n",
        "Install the Google AI Python SDK\n",
        "\n",
        "$ pip install google-generativeai\n",
        "\n",
        "See the getting started guide for more information:\n",
        "https://ai.google.dev/gemini-api/docs/get-started/python\n",
        "\"\"\"\n",
        "\n",
        "import os\n",
        "\n",
        "import google.generativeai as genai\n",
        "\n",
        "GEMINI_API_KEY = [\n",
        "]\n",
        "\n",
        "genai.configure(api_key='MASUKAN_API_MU_DISINI')\n",
        "\n",
        "# Create the model\n",
        "# See https://ai.google.dev/api/python/google/generativeai/GenerativeModel\n",
        "generation_config = {\n",
        "  \"temperature\": 1,\n",
        "  \"top_p\": 0.95,\n",
        "  \"top_k\": 64,\n",
        "  \"max_output_tokens\": 8192,\n",
        "  \"response_mime_type\": \"text/plain\",\n",
        "}\n",
        "safety_settings = [\n",
        "  {\n",
        "    \"category\": \"HARM_CATEGORY_HARASSMENT\",\n",
        "    \"threshold\": \"BLOCK_MEDIUM_AND_ABOVE\",\n",
        "  },\n",
        "  {\n",
        "    \"category\": \"HARM_CATEGORY_HATE_SPEECH\",\n",
        "    \"threshold\": \"BLOCK_MEDIUM_AND_ABOVE\",\n",
        "  },\n",
        "  {\n",
        "    \"category\": \"HARM_CATEGORY_SEXUALLY_EXPLICIT\",\n",
        "    \"threshold\": \"BLOCK_MEDIUM_AND_ABOVE\",\n",
        "  },\n",
        "  {\n",
        "    \"category\": \"HARM_CATEGORY_DANGEROUS_CONTENT\",\n",
        "    \"threshold\": \"BLOCK_MEDIUM_AND_ABOVE\",\n",
        "  },\n",
        "]\n",
        "\n",
        "model = genai.GenerativeModel(\n",
        "  model_name=\"gemini-1.5-flash\",\n",
        "  safety_settings=safety_settings,\n",
        "  generation_config=generation_config,\n",
        "  system_instruction=\"\"\"SUMMARIZE IN ABSTRACTIVE MANNER WITH THE CORRESPONDING LANGUAGE FROM THE TEXT \\n\n",
        "Constraint:\n",
        "- with minimum 2000 words\n",
        "- provide it in a formal format without further ado so that these results can be used for academic purposes\n",
        "\"\"\",\n",
        ")\n",
        "\n",
        "# TODO Extract file contents\n",
        "# File inputs cannot be directly provided to the model. You can use file data as\n",
        "# a prompt input by extracting its text. The specific method for doing so will\n",
        "# depend on the file type.\n",
        "#\n",
        "# See here for more information and updates:\n",
        "# https://ai.google.dev/gemini-api/docs/prompting_with_media#supported_file_formats\n",
        "\n",
        "chat_session = model.start_chat(history=[])\n",
        "\n",
        "response = chat_session.send_message(text)\n",
        "\n",
        "print(response.text)\n",
        "# print(chat_session.history)"
      ]
    }
  ]
}